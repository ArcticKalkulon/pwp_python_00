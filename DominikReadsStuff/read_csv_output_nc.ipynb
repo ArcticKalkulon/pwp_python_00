{
 "cells": [
  {
   "cell_type": "code",
   "execution_count": 1,
   "id": "713904d4",
   "metadata": {},
   "outputs": [],
   "source": [
    "import numpy as np\n",
    "import pandas as pd\n",
    "import matplotlib.dates as mdates"
   ]
  },
  {
   "cell_type": "code",
   "execution_count": 2,
   "id": "2a66016a",
   "metadata": {},
   "outputs": [],
   "source": [
    "def tau_x_y(wind_speed,component):\n",
    "    temp_list = np.zeros(wind_speed.shape)\n",
    "    for i in range(len(wind_speed)):\n",
    "        if wind_speed[i]<11:\n",
    "            temp = (1.3*1.2e-3)*wind_speed[i]*component[i] # EW surface wind stress for low wind speed\n",
    "            temp_list[i]=temp\n",
    "        else:\n",
    "            temp = (1.3*1.2e-3)*(0.49+0.065*wind_speed[i])*wind_speed[i]*component[i] # EW surface wind stress for high wind speed\n",
    "            temp_list[i]=temp     \n",
    "    return temp_list"
   ]
  },
  {
   "cell_type": "code",
   "execution_count": 3,
   "id": "a3a8c16a",
   "metadata": {},
   "outputs": [
    {
     "name": "stdout",
     "output_type": "stream",
     "text": [
      "<class 'pandas.core.frame.DataFrame'>\n",
      "RangeIndex: 4812 entries, 0 to 4811\n",
      "Data columns (total 8 columns):\n",
      " #   Column                 Non-Null Count  Dtype         \n",
      "---  ------                 --------------  -----         \n",
      " 0   Name                   4812 non-null   object        \n",
      " 1   Station                4812 non-null   object        \n",
      " 2   Time                   4812 non-null   datetime64[ns]\n",
      " 3   Air temperature        4812 non-null   float64       \n",
      " 4   Mean wind speed        4812 non-null   float64       \n",
      " 5   Wind direction         4753 non-null   float64       \n",
      " 6   Cloud cover            1604 non-null   float64       \n",
      " 7   Relative air humidity  4812 non-null   int64         \n",
      "dtypes: datetime64[ns](1), float64(4), int64(1), object(2)\n",
      "memory usage: 300.9+ KB\n"
     ]
    }
   ],
   "source": [
    "df = pd.read_csv(\"met_data_svalbard_lufthavn.csv\",delimiter=\";\",skipfooter=1,na_values='-',engine=\"python\")\n",
    "df.drop(columns=[\"Station\"])\n",
    "df['Time'] = pd.to_datetime(df['Time'], format='%d.%m.%Y %H:%M')\n",
    "df.info()"
   ]
  },
  {
   "cell_type": "markdown",
   "id": "1af885dc",
   "metadata": {},
   "source": [
    "## Wind component conversion from met-coordinates (0 deg from N) to wind stress\n",
    "## Calculate wind stress based on Large & pond (1981)\n"
   ]
  },
  {
   "cell_type": "code",
   "execution_count": 4,
   "id": "b16b6749",
   "metadata": {},
   "outputs": [],
   "source": [
    "df[\"u10\"] = -df[\"Mean wind speed\"]*np.sin(df[\"Wind direction\"]/360*2*np.pi)\n",
    "df['taux'] = tau_x_y(df['Mean wind speed'],df['u10'])\n",
    "df[\"v10\"] = -df[\"Mean wind speed\"]*np.cos(df[\"Wind direction\"]/360*2*np.pi)\n",
    "df['tauy'] = tau_x_y(df['Mean wind speed'],df['v10'])"
   ]
  },
  {
   "cell_type": "markdown",
   "id": "d6e185b9",
   "metadata": {},
   "source": [
    "## Calculate wind stress based on Large & pond (1981)"
   ]
  },
  {
   "cell_type": "code",
   "execution_count": 5,
   "id": "a940e619",
   "metadata": {},
   "outputs": [],
   "source": [
    "rhoa = 1.3           # Air density in kg/m3\n",
    "C    = 2.0e-3        # Heat transfer coefficient (sensible + latent heat flux including evaporation effects)\n",
    "cp   = 1004          # Specific heat at constant pressure for dry air in J/(deg kg)\n",
    "Ts   = -1.865         # Ocean surface temperature, assumed constant. -1.865 = freezing point for surface seawater with salinity Sw = 34.\n",
    "es   = 0.98          # Sea surface emissivity\n",
    "sig  = 5.67e-8       # Stefan-Boltzmann constant\n",
    "alpha= 0.1           # Albedo of open water\n",
    "S0   = 1353          # The sun constant in W/m2\n",
    "psi  = 77.75         # Latitude of the polynya in Degrees\n",
    "r    = 7.5           # Constant\n",
    "b    = 237.3         # Constant\n",
    "\n",
    "length = df[\"Time\"].to_numpy().shape[0]"
   ]
  },
  {
   "cell_type": "code",
   "execution_count": 6,
   "id": "abbe9e93",
   "metadata": {},
   "outputs": [],
   "source": [
    "FT = (rhoa*C*cp)*df[\"Mean wind speed\"]*(df[\"Air temperature\"]-Ts) # Turbulent flux (sensible + latent). Ta-Ts, differensial=>can use degree Celsius\n",
    "FL = -es*(sig*(Ts*np.ones(length)+273.15)**4)                       # Balckbody radiation form the ocean. Ts+273.15=degree Kelvin\n",
    "ea = 0.7829*(1+0.2232*(df[\"Cloud cover\"]/8)**(2.75))               # The effective air emissivity\n",
    "FB = (ea*(sig*(df[\"Air temperature\"]+273.15)**4))                  # Balckbody radiation form the atms. Simonsen & Haugan (1996), in deg. Kelvin\n",
    "k  = 1-0.6*(df[\"Cloud cover\"]/8)**3                                # Cloud correction term\n",
    "vp = (df[\"Relative air humidity\"]/100)*6.11*10**(r*df['Air temperature']/(b+df['Air temperature']))       # Vapor pressure"
   ]
  },
  {
   "cell_type": "code",
   "execution_count": 7,
   "id": "7f7c308d",
   "metadata": {},
   "outputs": [],
   "source": [
    "day_of_year = df[\"Time\"].dt.day_of_year\n",
    "year = df['Time'].dt.year\n",
    "month = df['Time'].dt.month\n",
    "day = df['Time'].dt.day\n",
    "hour = df[\"Time\"].dt.hour\n",
    "#print(year,month,day,hour,day_of_year)\n",
    "\n",
    "i  = 23.44*np.cos((360/365)*(172-day_of_year)*2*np.pi/360)\n",
    "hour_s = hour+2                               #Sun hour = 2 hours behind local time\n",
    "sun_hour_angle  = (12-hour_s)*15                                  #Sun hour angle\n",
    "\n",
    "coszp = np.sin(psi*np.pi/180)*np.sin(i*np.pi/180)+np.cos(psi*np.pi/180)*np.cos(i*np.pi/180)*np.cos(sun_hour_angle)\n",
    "coszp[coszp<0]=0\n",
    "Q0 = ((S0*coszp**2)/(1.085*coszp+(2.7+coszp)*vp*1e-3+0.1))\n",
    "FS = (1-alpha)*k*Q0\n",
    "Fnet = FT+FL-FB-FS"
   ]
  },
  {
   "cell_type": "code",
   "execution_count": 11,
   "id": "db43083d",
   "metadata": {},
   "outputs": [
    {
     "name": "stdout",
     "output_type": "stream",
     "text": [
      "<xarray.Dataset>\n",
      "Dimensions:  (index: 4812)\n",
      "Coordinates:\n",
      "  * index    (index) int64 0 1 2 3 4 5 6 ... 4805 4806 4807 4808 4809 4810 4811\n",
      "Data variables:\n",
      "    time     (index) datetime64[ns] 2020-10-01T01:00:00 ... 2021-04-19T12:00:00\n",
      "    sw       (index) float64 0.0 nan nan 0.0 nan nan ... nan nan 207.4 nan nan\n",
      "    lw       (index) float64 -7.198 nan nan -22.01 nan ... nan -7.198 nan nan\n",
      "    qlat     (index) float64 0.0 0.0 0.0 0.0 0.0 0.0 ... 0.0 0.0 0.0 0.0 0.0 0.0\n",
      "    qsens    (index) float64 4.036 13.79 10.85 0.0 ... 66.1 79.7 107.6 63.62\n",
      "    tx       (index) float64 0.0002472 0.002283 -0.0001176 ... 0.1214 0.05305\n",
      "    ty       (index) float64 3.474e-05 -0.001318 0.002243 ... 0.1172 0.07577\n",
      "    precip   (index) float64 0.0 0.0 0.0 0.0 0.0 0.0 ... 0.0 0.0 0.0 0.0 0.0 0.0\n"
     ]
    },
    {
     "data": {
      "text/html": [
       "<div>\n",
       "<style scoped>\n",
       "    .dataframe tbody tr th:only-of-type {\n",
       "        vertical-align: middle;\n",
       "    }\n",
       "\n",
       "    .dataframe tbody tr th {\n",
       "        vertical-align: top;\n",
       "    }\n",
       "\n",
       "    .dataframe thead th {\n",
       "        text-align: right;\n",
       "    }\n",
       "</style>\n",
       "<table border=\"1\" class=\"dataframe\">\n",
       "  <thead>\n",
       "    <tr style=\"text-align: right;\">\n",
       "      <th></th>\n",
       "      <th>time</th>\n",
       "      <th>sw</th>\n",
       "      <th>lw</th>\n",
       "      <th>qlat</th>\n",
       "      <th>qsens</th>\n",
       "      <th>tx</th>\n",
       "      <th>ty</th>\n",
       "      <th>precip</th>\n",
       "    </tr>\n",
       "  </thead>\n",
       "  <tbody>\n",
       "    <tr>\n",
       "      <th>0</th>\n",
       "      <td>2020-10-01 01:00:00</td>\n",
       "      <td>0.0</td>\n",
       "      <td>-7.197521</td>\n",
       "      <td>0.0</td>\n",
       "      <td>4.035678</td>\n",
       "      <td>0.000247</td>\n",
       "      <td>0.000035</td>\n",
       "      <td>0.0</td>\n",
       "    </tr>\n",
       "    <tr>\n",
       "      <th>1</th>\n",
       "      <td>2020-10-01 02:00:00</td>\n",
       "      <td>NaN</td>\n",
       "      <td>NaN</td>\n",
       "      <td>0.0</td>\n",
       "      <td>13.794659</td>\n",
       "      <td>0.002283</td>\n",
       "      <td>-0.001318</td>\n",
       "      <td>0.0</td>\n",
       "    </tr>\n",
       "    <tr>\n",
       "      <th>2</th>\n",
       "      <td>2020-10-01 03:00:00</td>\n",
       "      <td>NaN</td>\n",
       "      <td>NaN</td>\n",
       "      <td>0.0</td>\n",
       "      <td>10.854043</td>\n",
       "      <td>-0.000118</td>\n",
       "      <td>0.002243</td>\n",
       "      <td>0.0</td>\n",
       "    </tr>\n",
       "    <tr>\n",
       "      <th>3</th>\n",
       "      <td>2020-10-01 04:00:00</td>\n",
       "      <td>0.0</td>\n",
       "      <td>-22.008610</td>\n",
       "      <td>0.0</td>\n",
       "      <td>0.000000</td>\n",
       "      <td>-0.000000</td>\n",
       "      <td>-0.000000</td>\n",
       "      <td>0.0</td>\n",
       "    </tr>\n",
       "    <tr>\n",
       "      <th>4</th>\n",
       "      <td>2020-10-01 05:00:00</td>\n",
       "      <td>NaN</td>\n",
       "      <td>NaN</td>\n",
       "      <td>0.0</td>\n",
       "      <td>20.473367</td>\n",
       "      <td>0.005698</td>\n",
       "      <td>0.004954</td>\n",
       "      <td>0.0</td>\n",
       "    </tr>\n",
       "  </tbody>\n",
       "</table>\n",
       "</div>"
      ],
      "text/plain": [
       "                 time   sw         lw  qlat      qsens        tx        ty  \\\n",
       "0 2020-10-01 01:00:00  0.0  -7.197521   0.0   4.035678  0.000247  0.000035   \n",
       "1 2020-10-01 02:00:00  NaN        NaN   0.0  13.794659  0.002283 -0.001318   \n",
       "2 2020-10-01 03:00:00  NaN        NaN   0.0  10.854043 -0.000118  0.002243   \n",
       "3 2020-10-01 04:00:00  0.0 -22.008610   0.0   0.000000 -0.000000 -0.000000   \n",
       "4 2020-10-01 05:00:00  NaN        NaN   0.0  20.473367  0.005698  0.004954   \n",
       "\n",
       "   precip  \n",
       "0     0.0  \n",
       "1     0.0  \n",
       "2     0.0  \n",
       "3     0.0  \n",
       "4     0.0  "
      ]
     },
     "execution_count": 11,
     "metadata": {},
     "output_type": "execute_result"
    }
   ],
   "source": [
    "output = pd.DataFrame()\n",
    "output['time']=df['Time']\n",
    "output['sw'] = FS\n",
    "output['lw'] = FL + FB\n",
    "output['qlat'] = np.zeros(df['Time'].to_numpy().shape)\n",
    "output['qsens'] = FT\n",
    "output['tx'] = df['taux']\n",
    "output['ty'] = df['tauy']\n",
    "output['precip'] = np.zeros(df['Time'].to_numpy().shape)\n",
    "\n",
    "output_xr = output.to_xarray()\n",
    " \n",
    "output_xr.to_netcdf(path=\"test.nc\", mode='w')"
   ]
  },
  {
   "cell_type": "code",
   "execution_count": null,
   "id": "cc5b9f7d",
   "metadata": {},
   "outputs": [],
   "source": []
  }
 ],
 "metadata": {
  "kernelspec": {
   "display_name": "Python 3",
   "language": "python",
   "name": "python3"
  },
  "language_info": {
   "codemirror_mode": {
    "name": "ipython",
    "version": 3
   },
   "file_extension": ".py",
   "mimetype": "text/x-python",
   "name": "python",
   "nbconvert_exporter": "python",
   "pygments_lexer": "ipython3",
   "version": "3.7.10"
  }
 },
 "nbformat": 4,
 "nbformat_minor": 5
}
