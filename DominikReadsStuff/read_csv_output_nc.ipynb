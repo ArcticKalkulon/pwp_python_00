{
 "cells": [
  {
   "cell_type": "code",
   "execution_count": 1,
   "id": "713904d4",
   "metadata": {},
   "outputs": [],
   "source": [
    "import numpy as np\n",
    "import pandas as pd\n",
    "import matplotlib.dates as mdates\n",
    "import datetime as dt"
   ]
  },
  {
   "cell_type": "code",
   "execution_count": 2,
   "id": "2a66016a",
   "metadata": {},
   "outputs": [],
   "source": [
    "def tau_x_y(wind_speed,component):\n",
    "    temp_list = np.zeros(wind_speed.shape)\n",
    "    for i in range(len(wind_speed)):\n",
    "        if wind_speed[i]<11:\n",
    "            temp = (1.3*1.2e-3)*wind_speed[i]*component[i] # EW surface wind stress for low wind speed\n",
    "            temp_list[i]=temp\n",
    "        else:\n",
    "            temp = (1.3*1.2e-3)*(0.49+0.065*wind_speed[i])*wind_speed[i]*component[i] # EW surface wind stress for high wind speed\n",
    "            temp_list[i]=temp     \n",
    "    return temp_list"
   ]
  },
  {
   "cell_type": "code",
   "execution_count": 3,
   "id": "a3a8c16a",
   "metadata": {},
   "outputs": [
    {
     "name": "stdout",
     "output_type": "stream",
     "text": [
      "<class 'pandas.core.frame.DataFrame'>\n",
      "Int64Index: 4764 entries, 0 to 4763\n",
      "Data columns (total 8 columns):\n",
      " #   Column                 Non-Null Count  Dtype         \n",
      "---  ------                 --------------  -----         \n",
      " 0   Name                   4764 non-null   object        \n",
      " 1   Time                   4764 non-null   datetime64[ns]\n",
      " 2   Air temperature        4764 non-null   float64       \n",
      " 3   Mean wind speed        4764 non-null   float64       \n",
      " 4   Wind direction         4764 non-null   float64       \n",
      " 5   Cloud cover            4764 non-null   float64       \n",
      " 6   Relative air humidity  4764 non-null   int64         \n",
      " 7   Precipitation          4764 non-null   float64       \n",
      "dtypes: datetime64[ns](1), float64(5), int64(1), object(1)\n",
      "memory usage: 335.0+ KB\n"
     ]
    },
    {
     "data": {
      "text/html": [
       "<div>\n",
       "<style scoped>\n",
       "    .dataframe tbody tr th:only-of-type {\n",
       "        vertical-align: middle;\n",
       "    }\n",
       "\n",
       "    .dataframe tbody tr th {\n",
       "        vertical-align: top;\n",
       "    }\n",
       "\n",
       "    .dataframe thead th {\n",
       "        text-align: right;\n",
       "    }\n",
       "</style>\n",
       "<table border=\"1\" class=\"dataframe\">\n",
       "  <thead>\n",
       "    <tr style=\"text-align: right;\">\n",
       "      <th></th>\n",
       "      <th>Name</th>\n",
       "      <th>Time</th>\n",
       "      <th>Air temperature</th>\n",
       "      <th>Mean wind speed</th>\n",
       "      <th>Wind direction</th>\n",
       "      <th>Cloud cover</th>\n",
       "      <th>Relative air humidity</th>\n",
       "      <th>Precipitation</th>\n",
       "    </tr>\n",
       "  </thead>\n",
       "  <tbody>\n",
       "    <tr>\n",
       "      <th>0</th>\n",
       "      <td>Svalbard Lufthavn</td>\n",
       "      <td>2020-10-01 01:00:00</td>\n",
       "      <td>2.0</td>\n",
       "      <td>0.4</td>\n",
       "      <td>262.0</td>\n",
       "      <td>7.000000</td>\n",
       "      <td>93</td>\n",
       "      <td>3.472222e-09</td>\n",
       "    </tr>\n",
       "    <tr>\n",
       "      <th>1</th>\n",
       "      <td>Svalbard Lufthavn</td>\n",
       "      <td>2020-10-01 02:00:00</td>\n",
       "      <td>2.2</td>\n",
       "      <td>1.3</td>\n",
       "      <td>300.0</td>\n",
       "      <td>6.666667</td>\n",
       "      <td>94</td>\n",
       "      <td>0.000000e+00</td>\n",
       "    </tr>\n",
       "    <tr>\n",
       "      <th>2</th>\n",
       "      <td>Svalbard Lufthavn</td>\n",
       "      <td>2020-10-01 03:00:00</td>\n",
       "      <td>1.6</td>\n",
       "      <td>1.2</td>\n",
       "      <td>177.0</td>\n",
       "      <td>6.333333</td>\n",
       "      <td>95</td>\n",
       "      <td>2.314815e-09</td>\n",
       "    </tr>\n",
       "    <tr>\n",
       "      <th>3</th>\n",
       "      <td>Svalbard Lufthavn</td>\n",
       "      <td>2020-10-01 04:00:00</td>\n",
       "      <td>1.7</td>\n",
       "      <td>0.0</td>\n",
       "      <td>0.0</td>\n",
       "      <td>6.000000</td>\n",
       "      <td>96</td>\n",
       "      <td>0.000000e+00</td>\n",
       "    </tr>\n",
       "    <tr>\n",
       "      <th>4</th>\n",
       "      <td>Svalbard Lufthavn</td>\n",
       "      <td>2020-10-01 05:00:00</td>\n",
       "      <td>1.7</td>\n",
       "      <td>2.2</td>\n",
       "      <td>229.0</td>\n",
       "      <td>6.333333</td>\n",
       "      <td>90</td>\n",
       "      <td>0.000000e+00</td>\n",
       "    </tr>\n",
       "  </tbody>\n",
       "</table>\n",
       "</div>"
      ],
      "text/plain": [
       "                Name                Time  Air temperature  Mean wind speed  \\\n",
       "0  Svalbard Lufthavn 2020-10-01 01:00:00              2.0              0.4   \n",
       "1  Svalbard Lufthavn 2020-10-01 02:00:00              2.2              1.3   \n",
       "2  Svalbard Lufthavn 2020-10-01 03:00:00              1.6              1.2   \n",
       "3  Svalbard Lufthavn 2020-10-01 04:00:00              1.7              0.0   \n",
       "4  Svalbard Lufthavn 2020-10-01 05:00:00              1.7              2.2   \n",
       "\n",
       "   Wind direction  Cloud cover  Relative air humidity  Precipitation  \n",
       "0           262.0     7.000000                     93   3.472222e-09  \n",
       "1           300.0     6.666667                     94   0.000000e+00  \n",
       "2           177.0     6.333333                     95   2.314815e-09  \n",
       "3             0.0     6.000000                     96   0.000000e+00  \n",
       "4           229.0     6.333333                     90   0.000000e+00  "
      ]
     },
     "execution_count": 3,
     "metadata": {},
     "output_type": "execute_result"
    }
   ],
   "source": [
    "df = pd.read_csv(\"met_data_svalbard_lufthavn.csv\",delimiter=\";\",skipfooter=1,na_values='-',engine=\"python\")\n",
    "df = df.drop(columns=[\"Station\"])\n",
    "df['Time'] = pd.to_datetime(df['Time'], format='%d.%m.%Y %H:%M')\n",
    "\n",
    "df_precip = pd.read_csv(\"met_data_svalbard_lufthavn_precip.csv\",delimiter=\";\",skipfooter=1,na_values='-',engine=\"python\")\n",
    "df_precip['Time'] = pd.to_datetime(df_precip['Time'], format='%d.%m.%Y %H:%M')\n",
    "df_precip = df_precip.drop(columns=[\"Name\",\"Station\"])\n",
    "df_precip['Precipitation'] = df_precip['Precipitation']/1000/24/3600\n",
    "\n",
    "df = pd.merge(df, df_precip, on=\"Time\")\n",
    "\n",
    "df = df.interpolate()\n",
    "df.info()\n",
    "df.head()"
   ]
  },
  {
   "cell_type": "markdown",
   "id": "1af885dc",
   "metadata": {},
   "source": [
    "## Wind component conversion from met-coordinates (0 deg from N) to wind stress\n",
    "## Calculate wind stress based on Large & pond (1981)\n"
   ]
  },
  {
   "cell_type": "code",
   "execution_count": 4,
   "id": "b16b6749",
   "metadata": {},
   "outputs": [],
   "source": [
    "df[\"u10\"] = -df[\"Mean wind speed\"]*np.sin(df[\"Wind direction\"]/360*2*np.pi)\n",
    "df['taux'] = tau_x_y(df['Mean wind speed'],df['u10'])\n",
    "df[\"v10\"] = -df[\"Mean wind speed\"]*np.cos(df[\"Wind direction\"]/360*2*np.pi)\n",
    "df['tauy'] = tau_x_y(df['Mean wind speed'],df['v10'])"
   ]
  },
  {
   "cell_type": "markdown",
   "id": "d6e185b9",
   "metadata": {},
   "source": [
    "## Calculate wind stress based on Large & pond (1981)"
   ]
  },
  {
   "cell_type": "code",
   "execution_count": 5,
   "id": "a940e619",
   "metadata": {},
   "outputs": [],
   "source": [
    "rhoa = 1.3           # Air density in kg/m3\n",
    "C    = 2.0e-3        # Heat transfer coefficient (sensible + latent heat flux including evaporation effects)\n",
    "cp   = 1004          # Specific heat at constant pressure for dry air in J/(deg kg)\n",
    "Ts   = -1.865         # Ocean surface temperature, assumed constant. -1.865 = freezing point for surface seawater with salinity Sw = 34.\n",
    "es   = 0.98          # Sea surface emissivity\n",
    "sig  = 5.67e-8       # Stefan-Boltzmann constant\n",
    "alpha= 0.1           # Albedo of open water\n",
    "S0   = 1353          # The sun constant in W/m2\n",
    "psi  = 77.75         # Latitude of the polynya in Degrees\n",
    "r    = 7.5           # Constant\n",
    "b    = 237.3         # Constant\n",
    "\n",
    "length = df[\"Time\"].to_numpy().shape[0]"
   ]
  },
  {
   "cell_type": "code",
   "execution_count": 6,
   "id": "abbe9e93",
   "metadata": {},
   "outputs": [],
   "source": [
    "FT = (rhoa*C*cp)*df[\"Mean wind speed\"]*(df[\"Air temperature\"]-Ts) # Turbulent flux (sensible + latent). Ta-Ts, differensial=>can use degree Celsius\n",
    "FL = -es*(sig*(Ts*np.ones(length)+273.15)**4)                       # Balckbody radiation form the ocean. Ts+273.15=degree Kelvin\n",
    "ea = 0.7829*(1+0.2232*(df[\"Cloud cover\"]/8)**(2.75))               # The effective air emissivity\n",
    "FB = (ea*(sig*(df[\"Air temperature\"]+273.15)**4))                  # Balckbody radiation form the atms. Simonsen & Haugan (1996), in deg. Kelvin\n",
    "k  = 1-0.6*(df[\"Cloud cover\"]/8)**3                                # Cloud correction term\n",
    "vp = (df[\"Relative air humidity\"]/100)*6.11*10**(r*df['Air temperature']/(b+df['Air temperature']))       # Vapor pressure"
   ]
  },
  {
   "cell_type": "code",
   "execution_count": 7,
   "id": "7f7c308d",
   "metadata": {},
   "outputs": [],
   "source": [
    "day_of_year = df[\"Time\"].dt.day_of_year\n",
    "year = df['Time'].dt.year\n",
    "month = df['Time'].dt.month\n",
    "day = df['Time'].dt.day\n",
    "hour = df[\"Time\"].dt.hour\n",
    "#print(year,month,day,hour,day_of_year)\n",
    "\n",
    "i  = 23.44*np.cos((360/365)*(172-day_of_year)*2*np.pi/360)\n",
    "hour_s = hour+2                               #Sun hour = 2 hours behind local time\n",
    "sun_hour_angle  = (12-hour_s)*15                                  #Sun hour angle\n",
    "\n",
    "coszp = np.sin(psi*np.pi/180)*np.sin(i*np.pi/180)+np.cos(psi*np.pi/180)*np.cos(i*np.pi/180)*np.cos(sun_hour_angle)\n",
    "coszp[coszp<0]=0\n",
    "Q0 = ((S0*coszp**2)/(1.085*coszp+(2.7+coszp)*vp*1e-3+0.1))\n",
    "FS = (1-alpha)*k*Q0\n",
    "Fnet = FT+FL-FB-FS"
   ]
  },
  {
   "cell_type": "code",
   "execution_count": 8,
   "id": "b32d27b0",
   "metadata": {},
   "outputs": [],
   "source": [
    "Bowen_ratio = 1."
   ]
  },
  {
   "cell_type": "code",
   "execution_count": 9,
   "id": "db43083d",
   "metadata": {},
   "outputs": [
    {
     "name": "stdout",
     "output_type": "stream",
     "text": [
      "        time   sw          lw       qsens        qlat        tx        ty  \\\n",
      "2828  13.750  0.0  -99.361834 -205.241395 -205.241395 -0.052041  0.046858   \n",
      "2831  13.875  0.0  -99.361834 -235.874439 -235.874439 -0.074828  0.054366   \n",
      "2834  14.000  0.0 -102.143556 -244.069790 -244.069790 -0.064472  0.056044   \n",
      "2837  14.125  0.0 -106.413335 -307.750498 -307.750498 -0.087909  0.066244   \n",
      "2840  14.250  0.0 -111.208461 -379.566517 -379.566517 -0.118008  0.065413   \n",
      "2843  14.375  0.0 -109.719618 -438.543284 -438.543284 -0.183496  0.143363   \n",
      "2846  14.500  0.0 -108.989352 -478.817841 -478.817841 -0.241006  0.175101   \n",
      "2849  14.625  0.0 -108.316701 -499.024947 -499.024947 -0.286547  0.179055   \n",
      "2852  14.750  0.0 -113.376258 -455.952042 -455.952042 -0.145856  0.091141   \n",
      "2855  14.875  0.0 -116.914619 -543.205967 -543.205967 -0.212191  0.171829   \n",
      "\n",
      "      precip  \n",
      "2828     0.0  \n",
      "2831     0.0  \n",
      "2834     0.0  \n",
      "2837     0.0  \n",
      "2840     0.0  \n",
      "2843     0.0  \n",
      "2846     0.0  \n",
      "2849     0.0  \n",
      "2852     0.0  \n",
      "2855     0.0  \n",
      "<xarray.Dataset>\n",
      "Dimensions:  (index: 608)\n",
      "Coordinates:\n",
      "  * index    (index) int64 2498 2501 2504 2507 2510 ... 4307 4310 4313 4316 4319\n",
      "Data variables:\n",
      "    time     (index) float64 0.0 0.125 0.25 0.375 0.5 ... 76.62 76.75 76.88 77.0\n",
      "    sw       (index) float64 0.0 0.0 0.0 0.0 0.0 ... 124.5 110.5 10.82 99.47\n",
      "    lw       (index) float64 -47.63 -46.48 -39.12 ... -26.36 -24.32 -25.14\n",
      "    qsens    (index) float64 -59.25 -62.45 -67.79 ... -6.907 -2.331 -6.472\n",
      "    qlat     (index) float64 -59.25 -62.45 -67.79 ... -6.907 -2.331 -6.472\n",
      "    tx       (index) float64 0.005167 -0.02464 0.0118 ... 0.002355 -0.04792\n",
      "    ty       (index) float64 0.02072 0.008969 0.06692 ... 0.01526 0.0224 0.0165\n",
      "    precip   (index) float64 0.0 0.0 0.0 0.0 0.0 0.0 ... 0.0 0.0 0.0 0.0 0.0 0.0\n"
     ]
    }
   ],
   "source": [
    "output = pd.DataFrame()\n",
    "output['time']=df['Time']\n",
    "output['sw'] = FS\n",
    "output['lw'] = FL + FB\n",
    "output['qsens'] = FT\n",
    "output['qlat'] = FT/Bowen_ratio\n",
    "output['tx'] = df['taux']\n",
    "output['ty'] = df['tauy']\n",
    "output['precip'] = df['Precipitation']\n",
    "\n",
    "start_date = dt.date(2021, 1, 14)\n",
    "end_date = dt.date(2021, 4, 1)\n",
    "\n",
    "output = output[mdates.date2num(output['time'])>=mdates.date2num(start_date)]\n",
    "output = output[mdates.date2num(output['time'])<=mdates.date2num(end_date)]\n",
    "\n",
    "output['time'] = mdates.date2num(output['time'])-mdates.date2num(start_date)\n",
    "output = output.iloc[::3]\n",
    "print(output.iloc[110:120])\n",
    "\n",
    "output_xr = output.to_xarray()\n",
    "output_xr.to_netcdf(path=\"../input_data/Svalbard_Lufthavn.nc\", mode='w')\n",
    "print(output_xr)"
   ]
  },
  {
   "cell_type": "code",
   "execution_count": null,
   "id": "dc962e4b",
   "metadata": {},
   "outputs": [],
   "source": []
  }
 ],
 "metadata": {
  "kernelspec": {
   "display_name": "Python 3",
   "language": "python",
   "name": "python3"
  },
  "language_info": {
   "codemirror_mode": {
    "name": "ipython",
    "version": 3
   },
   "file_extension": ".py",
   "mimetype": "text/x-python",
   "name": "python",
   "nbconvert_exporter": "python",
   "pygments_lexer": "ipython3",
   "version": "3.7.10"
  }
 },
 "nbformat": 4,
 "nbformat_minor": 5
}
