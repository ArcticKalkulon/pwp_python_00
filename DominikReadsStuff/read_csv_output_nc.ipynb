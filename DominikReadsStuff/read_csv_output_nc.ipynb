{
 "cells": [
  {
   "cell_type": "code",
   "execution_count": 1,
   "id": "713904d4",
   "metadata": {},
   "outputs": [],
   "source": [
    "import numpy as np\n",
    "import pandas as pd\n",
    "import matplotlib.dates as mdates"
   ]
  },
  {
   "cell_type": "code",
   "execution_count": 2,
   "id": "2a66016a",
   "metadata": {},
   "outputs": [],
   "source": [
    "def tau_x_y(wind_speed,component):\n",
    "    temp_list = np.zeros(wind_speed.shape)\n",
    "    for i in range(len(wind_speed)):\n",
    "        if wind_speed[i]<11:\n",
    "            temp = (1.3*1.2e-3)*wind_speed[i]*component[i] # EW surface wind stress for low wind speed\n",
    "            temp_list[i]=temp\n",
    "        else:\n",
    "            temp = (1.3*1.2e-3)*(0.49+0.065*wind_speed[i])*wind_speed[i]*component[i] # EW surface wind stress for high wind speed\n",
    "            temp_list[i]=temp     \n",
    "    return temp_list"
   ]
  },
  {
   "cell_type": "code",
   "execution_count": 3,
   "id": "a3a8c16a",
   "metadata": {},
   "outputs": [],
   "source": [
    "df = pd.read_csv(\"met_data_svalbard_lufthavn.csv\",delimiter=\";\",skipfooter=1,na_values='-',engine=\"python\")\n",
    "df.drop(columns=[\"Station\"])\n",
    "df['Time'] = pd.to_datetime(df['Time'], format='%d.%m.%Y %H:%M')\n",
    "\n",
    "df['Wind direction'] = df['Wind direction'].interpolate()"
   ]
  },
  {
   "cell_type": "markdown",
   "id": "1af885dc",
   "metadata": {},
   "source": [
    "## Wind component conversion from met-coordinates (0 deg from N) to wind stress\n",
    "## Calculate wind stress based on Large & pond (1981)\n"
   ]
  },
  {
   "cell_type": "code",
   "execution_count": 4,
   "id": "b16b6749",
   "metadata": {},
   "outputs": [],
   "source": [
    "df[\"u10\"] = -df[\"Mean wind speed\"]*np.sin(df[\"Wind direction\"]/360*2*np.pi)\n",
    "df['taux'] = tau_x_y(df['Mean wind speed'],df['u10'])\n",
    "df[\"v10\"] = -df[\"Mean wind speed\"]*np.cos(df[\"Wind direction\"]/360*2*np.pi)\n",
    "df['tauy'] = tau_x_y(df['Mean wind speed'],df['v10'])"
   ]
  },
  {
   "cell_type": "markdown",
   "id": "d6e185b9",
   "metadata": {},
   "source": [
    "## Calculate wind stress based on Large & pond (1981)"
   ]
  },
  {
   "cell_type": "code",
   "execution_count": 5,
   "id": "a940e619",
   "metadata": {},
   "outputs": [],
   "source": [
    "rhoa = 1.3           # Air density in kg/m3\n",
    "C    = 2.0e-3        # Heat transfer coefficient (sensible + latent heat flux including evaporation effects)\n",
    "cp   = 1004          # Specific heat at constant pressure for dry air in J/(deg kg)\n",
    "Ts   = -1.865         # Ocean surface temperature, assumed constant. -1.865 = freezing point for surface seawater with salinity Sw = 34.\n",
    "es   = 0.98          # Sea surface emissivity\n",
    "sig  = 5.67e-8       # Stefan-Boltzmann constant\n",
    "alpha= 0.1           # Albedo of open water\n",
    "S0   = 1353          # The sun constant in W/m2\n",
    "psi  = 77.75         # Latitude of the polynya in Degrees\n",
    "r    = 7.5           # Constant\n",
    "b    = 237.3         # Constant\n",
    "\n",
    "length = df[\"Time\"].to_numpy().shape[0]"
   ]
  },
  {
   "cell_type": "code",
   "execution_count": 6,
   "id": "abbe9e93",
   "metadata": {},
   "outputs": [],
   "source": [
    "FT = (rhoa*C*cp)*df[\"Mean wind speed\"]*(df[\"Air temperature\"]-Ts) # Turbulent flux (sensible + latent). Ta-Ts, differensial=>can use degree Celsius\n",
    "FL = -es*(sig*(Ts*np.ones(length)+273.15)**4)                       # Balckbody radiation form the ocean. Ts+273.15=degree Kelvin\n",
    "ea = 0.7829*(1+0.2232*(df[\"Cloud cover\"]/8)**(2.75))               # The effective air emissivity\n",
    "FB = (ea*(sig*(df[\"Air temperature\"]+273.15)**4))                  # Balckbody radiation form the atms. Simonsen & Haugan (1996), in deg. Kelvin\n",
    "k  = 1-0.6*(df[\"Cloud cover\"]/8)**3                                # Cloud correction term\n",
    "vp = (df[\"Relative air humidity\"]/100)*6.11*10**(r*df['Air temperature']/(b+df['Air temperature']))       # Vapor pressure"
   ]
  },
  {
   "cell_type": "code",
   "execution_count": 7,
   "id": "7f7c308d",
   "metadata": {},
   "outputs": [],
   "source": [
    "day_of_year = df[\"Time\"].dt.day_of_year\n",
    "year = df['Time'].dt.year\n",
    "month = df['Time'].dt.month\n",
    "day = df['Time'].dt.day\n",
    "hour = df[\"Time\"].dt.hour\n",
    "#print(year,month,day,hour,day_of_year)\n",
    "\n",
    "i  = 23.44*np.cos((360/365)*(172-day_of_year)*2*np.pi/360)\n",
    "hour_s = hour+2                               #Sun hour = 2 hours behind local time\n",
    "sun_hour_angle  = (12-hour_s)*15                                  #Sun hour angle\n",
    "\n",
    "coszp = np.sin(psi*np.pi/180)*np.sin(i*np.pi/180)+np.cos(psi*np.pi/180)*np.cos(i*np.pi/180)*np.cos(sun_hour_angle)\n",
    "coszp[coszp<0]=0\n",
    "Q0 = ((S0*coszp**2)/(1.085*coszp+(2.7+coszp)*vp*1e-3+0.1))\n",
    "FS = (1-alpha)*k*Q0\n",
    "Fnet = FT+FL-FB-FS"
   ]
  },
  {
   "cell_type": "code",
   "execution_count": 8,
   "id": "db43083d",
   "metadata": {},
   "outputs": [],
   "source": [
    "output = pd.DataFrame()\n",
    "output['time']=df['Time']\n",
    "output['sw'] = FS\n",
    "output['lw'] = FL + FB\n",
    "output['qlat'] = np.zeros(df['Time'].to_numpy().shape)\n",
    "output['qsens'] = FT\n",
    "output['tx'] = df['taux']\n",
    "output['ty'] = df['tauy']\n",
    "output['precip'] = np.zeros(df['Time'].to_numpy().shape)\n",
    "output = output.iloc[::3,:]\n",
    "output['time'] = mdates.date2num(output['time'])-mdates.date2num(output['time'][0])\n",
    "\n",
    "output_xr = output.to_xarray()\n",
    "output_xr.to_netcdf(path=\"../input_data/Svalbard_Lufthavn.nc\", mode='w')"
   ]
  },
  {
   "cell_type": "code",
   "execution_count": null,
   "id": "cc5b9f7d",
   "metadata": {},
   "outputs": [],
   "source": []
  }
 ],
 "metadata": {
  "kernelspec": {
   "display_name": "Python 3",
   "language": "python",
   "name": "python3"
  },
  "language_info": {
   "codemirror_mode": {
    "name": "ipython",
    "version": 3
   },
   "file_extension": ".py",
   "mimetype": "text/x-python",
   "name": "python",
   "nbconvert_exporter": "python",
   "pygments_lexer": "ipython3",
   "version": "3.7.10"
  }
 },
 "nbformat": 4,
 "nbformat_minor": 5
}
