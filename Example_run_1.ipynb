{
 "cells": [
  {
   "cell_type": "markdown",
   "metadata": {},
   "source": [
    "### Example run 1: Southern Ocean in the summer"
   ]
  },
  {
   "cell_type": "markdown",
   "metadata": {},
   "source": [
    "This test case uses data from the default input files, *SO\\_met\\_30day.nc* and *SO\\_profile1.nc*. The *SO\\_met\\_30day.nc* file contains 6-hourly [NCEP reanalysis surface fluxes](http://www.esrl.noaa.gov/psd/data/gridded/data.ncep.reanalysis.surfaceflux.html) at -53.5 N and 0.02 E, which is situated in the Atlantic sector of the Southern Ocean - just north of the winter ice-edge. The *SO_profile1.nc* file contains temperature and salinity profile data at the above location, collected on December 11, 2014. This data is the the first profile from Argo float [5904469](http://www.ifremer.fr/co-argoFloats/float?detail=false&ptfCode=5904469).\n",
    "\n",
    "The surface forcing time series are shown below.\n",
    "\n",
    "![Sample Forcing](README_plots/surface_forcing_demo2.png)"
   ]
  },
  {
   "cell_type": "markdown",
   "metadata": {},
   "source": [
    "First lets import the PWP model and its helper module:"
   ]
  },
  {
   "cell_type": "code",
   "execution_count": 2,
   "metadata": {
    "collapsed": true
   },
   "outputs": [],
   "source": [
    "import PWP \n",
    "import PWP_helper as phf"
   ]
  },
  {
   "cell_type": "markdown",
   "metadata": {},
   "source": [
    "For this model run, we set the vertical diffusivity to 1x10<sup>-6</sup> m<sup>2</sup>/s, and change the max depth and depth increment to 500m and 2m, respectively. We then package these modifications as dictionary and pass it through the `param_mods` keyword argument:"
   ]
  },
  {
   "cell_type": "code",
   "execution_count": 3,
   "metadata": {
    "collapsed": false
   },
   "outputs": [
    {
     "name": "stdout",
     "output_type": "stream",
     "text": [
      "--------------------------------------\n",
      "CURRENT PARAMETER VALUES:\n",
      "Name: diff_zlim\n",
      "Value: 10000000000.0\n",
      "Description: maximum depth over which diffusion is applied (meters)\n",
      "\n",
      "\n",
      "Name: dt_hr\n",
      "Value: 3\n",
      "Description: time-step increment (hours)\n",
      "\n",
      "\n",
      "Name: examine_stabilized_plot\n",
      "Value: True\n",
      "Description:\n",
      "[True]/False switch to examine plot after initial stabilization.\n",
      "\n",
      "\n",
      "Name: g\n",
      "Value: 9.81\n",
      "Description: gravitional constant (m/s**2)\n",
      "\n",
      "\n",
      "Name: drag_ON\n",
      "Value: True\n",
      "Description: [True]/False switch to turn on/off current drag\n",
      "\n",
      "\n",
      "Name: use_Bulk_Formula\n",
      "Value: False\n",
      "Description:\n",
      "compute surface fluxes using bulk formulae (True) or simply use what's provided.\n",
      "\n",
      "\n",
      "Name: dt_save\n",
      "Value: 1\n",
      "Description:\n",
      "time-step increment for saving to file (multiples of dt). Not currently implemented\n",
      "\n",
      "\n",
      "Name: ice_ON\n",
      "Value: True\n",
      "Description: [True]/False switch to allow ice formation\n",
      "\n",
      "\n",
      "Name: qnet_offset\n",
      "Value: 0\n",
      "Description: arbitrary offset to the net atmospheric heat flux (W/m2)\n",
      "\n",
      "\n",
      "Name: mld_thresh\n",
      "Value: 0.0001\n",
      "Description: Density criterion for MLD (kg/m3)\n",
      "\n",
      "\n",
      "Name: h_i0\n",
      "Value: 0\n",
      "Description: initial ice thickness (meters)\n",
      "\n",
      "\n",
      "Name: dt_d\n",
      "Value: 0.125\n",
      "Description: None\n",
      "\n",
      "\n",
      "Name: ucon\n",
      "Value: 1.03124452968e-05\n",
      "Description: None\n",
      "\n",
      "\n",
      "Name: beta1\n",
      "Value: 0.6\n",
      "Description: longwave extinction coefficient (meters).\n",
      "\n",
      "\n",
      "Name: rb\n",
      "Value: 0.65\n",
      "Description: critical bulk richardson number\n",
      "\n",
      "\n",
      "Name: beta2\n",
      "Value: 20.0\n",
      "Description: shortwave extinction coefficient (meters).\n",
      "\n",
      "\n",
      "Name: lat\n",
      "Value: 45\n",
      "Description: latitude (degrees north)\n",
      "\n",
      "\n",
      "Name: fix_alpha\n",
      "Value: False\n",
      "Description: None\n",
      "\n",
      "\n",
      "Name: rg\n",
      "Value: 0.25\n",
      "Description: critical gradient richardson number\n",
      "\n",
      "\n",
      "Name: f\n",
      "Value: 0.000103124452968\n",
      "Description: None\n",
      "\n",
      "\n",
      "Name: winds_ON\n",
      "Value: True\n",
      "Description: [True]/False switch to turn on/off winds\n",
      "\n",
      "\n",
      "Name: dt\n",
      "Value: 10800.0\n",
      "Description: None\n",
      "\n",
      "\n",
      "Name: dz\n",
      "Value: 1\n",
      "Description: depth increment (meters)\n",
      "\n",
      "\n",
      "Name: max_depth\n",
      "Value: 100\n",
      "Description: None\n",
      "\n",
      "\n",
      "Name: rkz\n",
      "Value: 0\n",
      "Description: diffusion co-efficient (m2/s)\n",
      "\n",
      "\n",
      "Name: emp_ON\n",
      "Value: True\n",
      "Description: [True]/False switch to turn on/off E-P fluxes\n",
      "\n",
      "\n",
      "Name: alpha\n",
      "Value: -999\n",
      "Description: sea ice concentration (-999 is default) \n",
      "\n",
      "\n",
      "Name: plots2make\n",
      "Value: range(0, 7)\n",
      "Description:\n",
      "list of plots to make. First 7 are ocean-only. The rest involve ice.\n",
      "\n",
      "\n",
      "Name: dens_option\n",
      "Value: dens0\n",
      "Description:\n",
      "option to control how density is computed. 'dens', ['dens0'] or 'pdens' (see notes in script)\n",
      "\n",
      "\n",
      "Name: quiet_mode\n",
      "Value: False\n",
      "Description: None\n",
      "\n",
      "\n",
      "Name: cpw\n",
      "Value: 4183.3\n",
      "Description: heat capacity of seawater\n",
      "\n",
      "\n",
      "Name: iceMod\n",
      "Value: 1\n",
      "Description:\n",
      "ice model options. [1 to use ice_model_T, 0] to use ice_model_0\n",
      "\n",
      "\n",
      "Name: plot_zlim\n",
      "Value: 500\n",
      "Description:\n",
      "maximum depth to show when generating plots at the end of the run\n",
      "\n",
      "\n",
      "Name: gradMix_ON\n",
      "Value: True\n",
      "Description:\n",
      "[True]/False switch to allow gradient richardson number mixing\n",
      "\n",
      "\n",
      "--------------------------------------\n"
     ]
    },
    {
     "data": {
      "text/plain": [
       "{'alpha': -999,\n",
       " 'beta1': 0.6,\n",
       " 'beta2': 20.0,\n",
       " 'cpw': 4183.3,\n",
       " 'dens_option': 'dens0',\n",
       " 'diff_zlim': 10000000000.0,\n",
       " 'drag_ON': True,\n",
       " 'dt': 10800.0,\n",
       " 'dt_d': 0.125,\n",
       " 'dt_hr': 3,\n",
       " 'dt_save': 1,\n",
       " 'dz': 1,\n",
       " 'emp_ON': True,\n",
       " 'examine_stabilized_plot': True,\n",
       " 'f': 0.00010312445296824608,\n",
       " 'fix_alpha': False,\n",
       " 'g': 9.81,\n",
       " 'gradMix_ON': True,\n",
       " 'h_i0': 0,\n",
       " 'iceMod': 1,\n",
       " 'ice_ON': True,\n",
       " 'lat': 45,\n",
       " 'max_depth': 100,\n",
       " 'mld_thresh': 0.0001,\n",
       " 'plot_zlim': 500,\n",
       " 'plots2make': range(0, 7),\n",
       " 'qnet_offset': 0,\n",
       " 'quiet_mode': False,\n",
       " 'rb': 0.65,\n",
       " 'rg': 0.25,\n",
       " 'rkz': 0,\n",
       " 'ucon': 1.0312445296824608e-05,\n",
       " 'use_Bulk_Formula': False,\n",
       " 'winds_ON': True}"
      ]
     },
     "execution_count": 3,
     "metadata": {},
     "output_type": "execute_result"
    }
   ],
   "source": [
    "phf.set_params(display_params=True)"
   ]
  },
  {
   "cell_type": "code",
   "execution_count": 4,
   "metadata": {
    "collapsed": true
   },
   "outputs": [],
   "source": [
    "forcing_fname = 'SO_met_30day.nc'\n",
    "prof_fname = 'SO_profile1.nc'\n",
    "p={}\n",
    "p['rkz']=1e-6\n",
    "p['dz'] = 2.0 \n",
    "p['max_depth'] = 500.0 \n",
    "p['examine_stabilized_plot'] = False\n",
    "p['quiet_mode'] = True\n",
    "p['plots2make'] = [1, 6]\n",
    "suffix = 'demo2_1e6diff' #string to append to all saved files."
   ]
  },
  {
   "cell_type": "markdown",
   "metadata": {},
   "source": [
    "Next we run the model. To do this, we use the the helper function `run_PWP()`."
   ]
  },
  {
   "cell_type": "code",
   "execution_count": null,
   "metadata": {
    "collapsed": false
   },
   "outputs": [
    {
     "name": "stdout",
     "output_type": "stream",
     "text": [
      "Specified depth increment (2.0 m), is much smaller than mean profile resolution (25.7895 m).\n",
      "Using dens0 density option.\n",
      "Warning!!! Initial density profile has instabilities...\n",
      "Stabilizing profile\n",
      "Profile stabilized. 246 iterations required.\n"
     ]
    }
   ],
   "source": [
    "forcing, pwp_out = phf.run_PWP(met_data=forcing_fname, prof_data=prof_fname, suffix=suffix, save_plots=True, param_mods=p)"
   ]
  },
  {
   "cell_type": "markdown",
   "metadata": {},
   "source": [
    "For some reason, the model won't run here, so I'm just gonna show save images for the time being.\n",
    "\n",
    "The surface forcing time series are shown below.\n",
    "\n",
    "![Sample Forcing](README_plots/surface_forcing_demo2.png)\n",
    "\n",
    "\n",
    "The results are displayed below.    \n",
    "\n",
    "![Sample Forcing](README_plots/initial_final_TS_profiles_demo2_1e6diff.png)\n",
    "\n",
    "You can repeat this test case by running the `demo2()` function in *PWP_demos.py*."
   ]
  },
  {
   "cell_type": "code",
   "execution_count": null,
   "metadata": {
    "collapsed": true
   },
   "outputs": [],
   "source": []
  }
 ],
 "metadata": {
  "anaconda-cloud": {},
  "kernelspec": {
   "display_name": "Python [Root]",
   "language": "python",
   "name": "Python [Root]"
  },
  "language_info": {
   "codemirror_mode": {
    "name": "ipython",
    "version": 3
   },
   "file_extension": ".py",
   "mimetype": "text/x-python",
   "name": "python",
   "nbconvert_exporter": "python",
   "pygments_lexer": "ipython3",
   "version": "3.5.2"
  }
 },
 "nbformat": 4,
 "nbformat_minor": 0
}
